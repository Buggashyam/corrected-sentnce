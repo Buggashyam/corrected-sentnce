{
 "cells": [
  {
   "cell_type": "code",
   "execution_count": 8,
   "id": "cac231ec-3c70-4281-9771-4f17d33a2346",
   "metadata": {},
   "outputs": [
    {
     "name": "stdout",
     "output_type": "stream",
     "text": [
      "Original Text:  kicked teh ball the man\n",
      "Corrected Text: Kicked the ball the man\n"
     ]
    }
   ],
   "source": [
    "import re\n",
    "from spellchecker import SpellChecker\n",
    "\n",
    "# Initialize spell checker\n",
    "spell = SpellChecker()\n",
    "\n",
    "# Function to correct spelling\n",
    "def correct_spelling(text):\n",
    "    words = text.split()\n",
    "    corrected_words = []\n",
    "    for word in words:\n",
    "        if word.isalpha():\n",
    "            corrected_word = spell.correction(word)\n",
    "            corrected_words.append(corrected_word if corrected_word else word)\n",
    "        else:\n",
    "            corrected_words.append(word)\n",
    "    return ' '.join(corrected_words)\n",
    "\n",
    "# Function to correct sentence formation\n",
    "def correct_sentence(text):\n",
    "    # Trim extra whitespace\n",
    "    text = re.sub(r'\\s+', ' ', text).strip()\n",
    "    \n",
    "    # Capitalize first letter of each sentence\n",
    "    sentences = re.split(r'(?<=[.!?]) +', text)\n",
    "    corrected_sentences = [sentence.capitalize() for sentence in sentences if sentence]\n",
    "    \n",
    "    # Correct spelling in each sentence\n",
    "    corrected_sentences = [correct_spelling(sentence) for sentence in corrected_sentences]\n",
    "    \n",
    "    # Join the sentences back\n",
    "    return ' '.join(corrected_sentences)\n",
    "\n",
    "# Example Usage\n",
    "if __name__ == \"__main__\":\n",
    "    text = \" kicked teh ball the man\"\n",
    "    corrected_text = correct_sentence(text)\n",
    "    print(\"Original Text:\", text)\n",
    "    print(\"Corrected Text:\", corrected_text)\n"
   ]
  },
  {
   "cell_type": "code",
   "execution_count": null,
   "id": "72e259c5-cdbd-472c-9fe4-046bc7d17cb4",
   "metadata": {},
   "outputs": [],
   "source": []
  }
 ],
 "metadata": {
  "kernelspec": {
   "display_name": "Python 3 (ipykernel)",
   "language": "python",
   "name": "python3"
  },
  "language_info": {
   "codemirror_mode": {
    "name": "ipython",
    "version": 3
   },
   "file_extension": ".py",
   "mimetype": "text/x-python",
   "name": "python",
   "nbconvert_exporter": "python",
   "pygments_lexer": "ipython3",
   "version": "3.12.7"
  }
 },
 "nbformat": 4,
 "nbformat_minor": 5
}
